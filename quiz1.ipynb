{
 "cells": [
  {
   "cell_type": "code",
   "execution_count": 1,
   "metadata": {},
   "outputs": [
    {
     "name": "stdout",
     "output_type": "stream",
     "text": [
      "입력 파일 이름:HumptyDumpty.txt\n",
      "{'H': 3, 'u': 7, 'm': 6, 'p': 6, 't': 13, 'y': 5, ' ': 22, 'D': 2, 's': 5, 'a': 11, 'o': 4, 'n': 7, 'w': 1, 'l': 9, ',': 1, '\\n': 3, 'h': 5, 'd': 3, 'g': 5, 'r': 3, 'e': 7, 'f': 1, '.': 2, 'A': 1, 'k': 2, 'i': 3, \"'\": 3, 'C': 1}\n"
     ]
    }
   ],
   "source": [
    "#11장-3번) HumptyDumpty.txt 파일에 있는 문자들의 빈도를 계산하시오.\n",
    "alp={}\n",
    "infilename=input(\"입력 파일 이름:\")\n",
    "infile=open(infilename, \"r\")\n",
    "rfile=infile.read()\n",
    "infile.close()\n",
    "\n",
    "for line in rfile: #읽어온 파일 안의 각 줄을 읽도록 \n",
    "    for ch in line:#각 줄 안의 문자들을 읽도록 \n",
    "        if ch in  alp:\n",
    "            alp[ch]+=1\n",
    "        else:\n",
    "            alp[ch]=1\n",
    "print(alp)"
   ]
  },
  {
   "cell_type": "code",
   "execution_count": null,
   "metadata": {},
   "outputs": [],
   "source": []
  }
 ],
 "metadata": {
  "kernelspec": {
   "display_name": "Python 3",
   "language": "python",
   "name": "python3"
  },
  "language_info": {
   "codemirror_mode": {
    "name": "ipython",
    "version": 3
   },
   "file_extension": ".py",
   "mimetype": "text/x-python",
   "name": "python",
   "nbconvert_exporter": "python",
   "pygments_lexer": "ipython3",
   "version": "3.7.6"
  }
 },
 "nbformat": 4,
 "nbformat_minor": 4
}
